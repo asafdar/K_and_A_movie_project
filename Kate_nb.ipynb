{
 "cells": [
  {
   "cell_type": "code",
   "execution_count": 139,
   "metadata": {},
   "outputs": [],
   "source": [
    "import numpy as np\n",
    "import pandas as pd\n",
    "import seaborn as sns\n",
    "import matplotlib.pyplot as plt\n",
    "import movie_functions as mov\n",
    "import operator\n",
    "%matplotlib inline"
   ]
  },
  {
   "cell_type": "code",
   "execution_count": 42,
   "metadata": {},
   "outputs": [],
   "source": [
    "# upload first two datasets: box office mojo for domestic gross values, the movie database for release dates\n",
    "\n",
    "bom_df = pd.read_csv('./zippedData/bom.movie_gross.csv')\n",
    "tmdb_df = pd.read_csv('./zippedData/tmdb.movies.csv')"
   ]
  },
  {
   "cell_type": "code",
   "execution_count": 43,
   "metadata": {},
   "outputs": [],
   "source": [
    "tmdb_df.rename(columns = {'title': 'Title'}, inplace = True)"
   ]
  },
  {
   "cell_type": "code",
   "execution_count": 44,
   "metadata": {},
   "outputs": [],
   "source": [
    "tmdb_df.rename(columns = {'original_title': 'title'}, inplace = True)"
   ]
  },
  {
   "cell_type": "code",
   "execution_count": 45,
   "metadata": {},
   "outputs": [],
   "source": [
    "# merge these two datasets on the title column, \n",
    "# inner merge so that we don't have movies that have null values for either the release date or domestic gross\n",
    "\n",
    "bom_tmdb_df = pd.merge(bom_df, tmdb_df, on = 'title', how = 'inner')"
   ]
  },
  {
   "cell_type": "code",
   "execution_count": 46,
   "metadata": {},
   "outputs": [],
   "source": [
    "#upload imdb title basics info for genre info, title ratings for rating info\n",
    "\n",
    "imdb_title_basics_df = pd.read_csv('./zippedData/imdb.title.basics.csv')\n",
    "imdb_title_ratings_df = pd.read_csv('./zippedData/imdb.title.ratings.csv')"
   ]
  },
  {
   "cell_type": "code",
   "execution_count": 47,
   "metadata": {},
   "outputs": [],
   "source": [
    "# merge imdb datasets on the id given by imdb\n",
    "\n",
    "imdb_df = pd.merge(imdb_title_basics_df, imdb_title_ratings_df, on = 'tconst', how = 'inner')"
   ]
  },
  {
   "cell_type": "code",
   "execution_count": 48,
   "metadata": {},
   "outputs": [],
   "source": [
    "# rename primary title to just title so this data set can be \n",
    "# merged with the box office mojo/the movie database merged db above\n",
    "\n",
    "imdb_df.rename(columns = {'original_title': 'title'}, inplace = True)"
   ]
  },
  {
   "cell_type": "code",
   "execution_count": 52,
   "metadata": {},
   "outputs": [],
   "source": [
    "# merge bom/tmdb database and imdb database\n",
    "\n",
    "merged_df = pd.merge(bom_tmdb_df, imdb_df, on = 'title', how = 'inner')"
   ]
  },
  {
   "cell_type": "code",
   "execution_count": 55,
   "metadata": {},
   "outputs": [],
   "source": [
    "# drop duplicate entries based on thier id given in imdb database\n",
    "\n",
    "merged_df.drop_duplicates(subset='tconst', inplace = True)"
   ]
  },
  {
   "cell_type": "code",
   "execution_count": 58,
   "metadata": {},
   "outputs": [],
   "source": [
    "# drop duplicate entries based on thier id given in tmdb database\n",
    "\n",
    "merged_df.drop_duplicates(subset='id', inplace = True)"
   ]
  },
  {
   "cell_type": "code",
   "execution_count": 60,
   "metadata": {},
   "outputs": [],
   "source": [
    "# since we'll be measuring a movie's success by its domestic gross, we can't have data that does not have a domestic gross\n",
    "\n",
    "merged_df.dropna(subset=['domestic_gross'], inplace = True)"
   ]
  },
  {
   "cell_type": "code",
   "execution_count": 66,
   "metadata": {},
   "outputs": [],
   "source": [
    "# drop columns that won't be used in our analysis\n",
    "\n",
    "merged_df.drop(columns=['foreign_gross', 'Unnamed: 0', 'genre_ids', \n",
    "                        'Title', 'primary_title', 'start_year', \n",
    "                        'year', 'id', 'original_language', 'tconst', \n",
    "                        'vote_average', 'vote_count', 'popularity'], inplace = True)"
   ]
  },
  {
   "cell_type": "code",
   "execution_count": 71,
   "metadata": {},
   "outputs": [],
   "source": [
    "# turn the release date into a datetime object so the month, year, and day are easier to access\n",
    "\n",
    "merged_df['release_date'] = merged_df['release_date'].apply(lambda x: pd.to_datetime(x, format = '%Y-%m-%d'))"
   ]
  },
  {
   "cell_type": "code",
   "execution_count": 73,
   "metadata": {},
   "outputs": [],
   "source": [
    "# add a column 'month', that lists just the month of release\n",
    "\n",
    "merged_df['month'] = merged_df['release_date'].apply(lambda x: x.month)"
   ]
  },
  {
   "cell_type": "code",
   "execution_count": 76,
   "metadata": {},
   "outputs": [],
   "source": [
    "# add a column 'day', classifies each movie as being released at the beginning, middle, or end of the month\n",
    "\n",
    "merged_df['day']= merged_df['release_date'].apply(lambda x: 'beg' if x.day < 11 else('mid' if x.day < 21 else 'end'))"
   ]
  },
  {
   "cell_type": "code",
   "execution_count": 79,
   "metadata": {},
   "outputs": [],
   "source": [
    "# split the genres string for each movie into separate list items\n",
    "\n",
    "merged_df['genres'] = merged_df['genres'].apply(lambda x: x.split(','))"
   ]
  },
  {
   "cell_type": "code",
   "execution_count": 82,
   "metadata": {},
   "outputs": [],
   "source": [
    "# create a list of lists from the genres dataseries\n",
    "\n",
    "nested_list_genres = list(merged_df['genres'])"
   ]
  },
  {
   "cell_type": "code",
   "execution_count": 83,
   "metadata": {},
   "outputs": [],
   "source": [
    "# flatten the nested_list into one long list\n",
    "\n",
    "genre_list = [item for sublist in nested_list_genres for item in sublist]"
   ]
  },
  {
   "cell_type": "code",
   "execution_count": 92,
   "metadata": {},
   "outputs": [],
   "source": [
    "# obtain a list of all the unique genres (uses unique function from movie_functions.py)\n",
    "\n",
    "unique_genres = mov.unique(genre_list)"
   ]
  },
  {
   "cell_type": "code",
   "execution_count": 88,
   "metadata": {},
   "outputs": [],
   "source": [
    "# add dummy variables for unique genres\n",
    "\n",
    "merged_df['Adventure'] = mov.adventure(nested_list_genres)\n",
    "merged_df['Drama'] = mov.drama(nested_list_genres)\n",
    "merged_df['Romance'] = mov.romance(nested_list_genres)\n",
    "merged_df['Action'] = mov.action(nested_list_genres)\n",
    "merged_df['Crime'] = mov.crime(nested_list_genres)\n",
    "merged_df['Sci-fi'] = mov.scifi(nested_list_genres)\n",
    "merged_df['Comedy'] = mov.comedy(nested_list_genres)\n",
    "merged_df['Family'] = mov.family(nested_list_genres)\n",
    "merged_df['Animation'] = mov.animation(nested_list_genres)\n",
    "merged_df['Thriller'] = mov.thriller(nested_list_genres)\n",
    "merged_df['Mystery'] = mov.mystery(nested_list_genres)\n",
    "merged_df['Horror'] = mov.horror(nested_list_genres)\n",
    "merged_df['Biography'] = mov.biography(nested_list_genres)\n",
    "merged_df['History'] = mov.history(nested_list_genres)\n",
    "merged_df['Fantasy'] = mov.fantasy(nested_list_genres)\n",
    "merged_df['Music'] = mov.music(nested_list_genres)\n",
    "merged_df['War'] = mov.war(nested_list_genres)\n",
    "merged_df['Sport'] = mov.sport(nested_list_genres)\n",
    "merged_df['Western'] = mov.western(nested_list_genres)\n",
    "merged_df['Documentary'] = mov.documentary(nested_list_genres)\n",
    "merged_df['Musical'] = mov.musical(nested_list_genres)"
   ]
  },
  {
   "cell_type": "code",
   "execution_count": 96,
   "metadata": {},
   "outputs": [],
   "source": [
    "# now that the dummy variables have been made, we can drop the genres column\n",
    "\n",
    "merged_df.drop(columns=['genres'], inplace = True)"
   ]
  },
  {
   "cell_type": "code",
   "execution_count": 98,
   "metadata": {},
   "outputs": [],
   "source": [
    "# create list of month labels for data visuals\n",
    "\n",
    "tick_label_list = ['Jan', 'Feb', 'Mar', 'Apr', 'May', 'Jun', 'Jul', 'Aug', 'Sep', 'Oct', 'Nov', 'Dec']"
   ]
  },
  {
   "cell_type": "code",
   "execution_count": 125,
   "metadata": {},
   "outputs": [
    {
     "data": {
      "image/png": "[encoded data removed]",
      "text/plain": [
       "<Figure size 432x288 with 1 Axes>"
      ]
     },
     "metadata": {
      "needs_background": "light"
     },
     "output_type": "display_data"
    }
   ],
   "source": [
    "# this graph shows us that the domestic gross varies by month for movies overall\n",
    "\n",
    "sns.set_context('notebook')\n",
    "\n",
    "sns.barplot(x='month', y=\"domestic_gross\", \n",
    "            data = merged_df, capsize=.2, \n",
    "            palette=\"deep\").set(title = 'Overall Movie Success by Month', \n",
    "                                xticklabels = tick_label_list,\n",
    "                               xlabel = 'Month',\n",
    "                               ylabel = 'Domestic Gross')\n",
    "plt.tight_layout()\n",
    "plt.show()"
   ]
  },
  {
   "cell_type": "code",
   "execution_count": 234,
   "metadata": {},
   "outputs": [
    {
     "data": {
      "text/plain": [
       "['Drama', 'Comedy', 'Action', 'Adventure', 'Romance', 'Thriller']"
      ]
     },
     "execution_count": 234,
     "metadata": {},
     "output_type": "execute_result"
    }
   ],
   "source": [
    "# obtain top 6 genres with the most movies, obrain a list with those genres\n",
    "\n",
    "sum_dict = dict(zip(merged_df.columns[-21:], merged_df.sum()['Adventure':]))\n",
    "\n",
    "sorted_dict = sorted(sum_dict.items(), key=operator.itemgetter(1), reverse = True)\n",
    "\n",
    "top_six = sorted_dict[:6]\n",
    "\n",
    "top_six_genre_list = []\n",
    "for item in top_six:\n",
    "    top_six_genre_list.append(item[0])\n",
    "    \n",
    "top_six_genre_list"
   ]
  },
  {
   "cell_type": "code",
   "execution_count": 256,
   "metadata": {},
   "outputs": [],
   "source": [
    "# create dataframe that only has movies that are in these six genres\n",
    "\n",
    "six_genres_df = merged_df.loc[(merged_df['Drama'] == 1) | (merged_df['Comedy'] == 1) | \n",
    "                             (merged_df['Action'] == 1) | (merged_df['Adventure'] == 1) | \n",
    "                             merged_df['Thriller'] == 1 | (merged_df['Romance'] == 1)]"
   ]
  },
  {
   "cell_type": "code",
   "execution_count": 257,
   "metadata": {},
   "outputs": [],
   "source": [
    "# create dataframe of the domestic grosses for the top six genres\n",
    "\n",
    "data_genres = [pd.Series(drama_df['domestic_gross']), pd.Series(comedy_df['domestic_gross']), \n",
    "               pd.Series(action_df['domestic_gross']), pd.Series(adventure_df['domestic_gross']), \n",
    "               pd.Series(romance_df['domestic_gross']), pd.Series(thriller_df['domestic_gross'])]\n",
    "data = dict(zip(top_six_genre_list, data_genres))\n",
    "dom_gross_genre_df = pd.DataFrame(data)\n",
    "\n",
    "# add column for dataframe to merge on\n",
    "\n",
    "dom_gross_genre_df['title'] = six_genres_df['title']\n",
    "\n",
    "# rename columns to prep for merge\n",
    "dom_gross_genre_df.rename(columns = {'Drama':'drama_gross', 'Comedy':'comedy_gross', \n",
    "                                     'Action':'action_gross', 'Adventure': 'adventure_gross', \n",
    "                                     'Romance': 'romance_gross', 'Thriller': 'thriller_gross'}, inplace = True)"
   ]
  },
  {
   "cell_type": "code",
   "execution_count": 261,
   "metadata": {},
   "outputs": [],
   "source": [
    "# merge dataframes\n",
    "\n",
    "six_genres_df = pd.merge(six_genres_df, dom_gross_genre_df, on = 'title')"
   ]
  },
  {
   "cell_type": "code",
   "execution_count": 266,
   "metadata": {},
   "outputs": [
    {
     "data": {
      "text/html": [
       "<div>\n",
       "<style scoped>\n",
       "    .dataframe tbody tr th:only-of-type {\n",
       "        vertical-align: middle;\n",
       "    }\n",
       "\n",
       "    .dataframe tbody tr th {\n",
       "        vertical-align: top;\n",
       "    }\n",
       "\n",
       "    .dataframe thead th {\n",
       "        text-align: right;\n",
       "    }\n",
       "</style>\n",
       "<table border=\"1\" class=\"dataframe\">\n",
       "  <thead>\n",
       "    <tr style=\"text-align: right;\">\n",
       "      <th></th>\n",
       "      <th>studio</th>\n",
       "      <th>month</th>\n",
       "      <th>day</th>\n",
       "      <th>variable</th>\n",
       "      <th>value</th>\n",
       "    </tr>\n",
       "  </thead>\n",
       "  <tbody>\n",
       "    <tr>\n",
       "      <th>0</th>\n",
       "      <td>BV</td>\n",
       "      <td>6</td>\n",
       "      <td>mid</td>\n",
       "      <td>drama_gross</td>\n",
       "      <td>NaN</td>\n",
       "    </tr>\n",
       "    <tr>\n",
       "      <th>1</th>\n",
       "      <td>WB</td>\n",
       "      <td>7</td>\n",
       "      <td>mid</td>\n",
       "      <td>drama_gross</td>\n",
       "      <td>NaN</td>\n",
       "    </tr>\n",
       "    <tr>\n",
       "      <th>2</th>\n",
       "      <td>P/DW</td>\n",
       "      <td>5</td>\n",
       "      <td>mid</td>\n",
       "      <td>drama_gross</td>\n",
       "      <td>NaN</td>\n",
       "    </tr>\n",
       "    <tr>\n",
       "      <th>3</th>\n",
       "      <td>Sum.</td>\n",
       "      <td>6</td>\n",
       "      <td>end</td>\n",
       "      <td>drama_gross</td>\n",
       "      <td>300500000.0</td>\n",
       "    </tr>\n",
       "    <tr>\n",
       "      <th>4</th>\n",
       "      <td>Par.</td>\n",
       "      <td>5</td>\n",
       "      <td>beg</td>\n",
       "      <td>drama_gross</td>\n",
       "      <td>NaN</td>\n",
       "    </tr>\n",
       "  </tbody>\n",
       "</table>\n",
       "</div>"
      ],
      "text/plain": [
       "  studio  month  day     variable        value\n",
       "0     BV      6  mid  drama_gross          NaN\n",
       "1     WB      7  mid  drama_gross          NaN\n",
       "2   P/DW      5  mid  drama_gross          NaN\n",
       "3   Sum.      6  end  drama_gross  300500000.0\n",
       "4   Par.      5  beg  drama_gross          NaN"
      ]
     },
     "execution_count": 266,
     "metadata": {},
     "output_type": "execute_result"
    }
   ],
   "source": [
    "# melt dataframe so we can see divide data by genre\n",
    "\n",
    "by_genre_df = pd.melt(six_genres_df, id_vars=['studio', 'month', 'day'], \n",
    "                      value_vars=['drama_gross', 'comedy_gross', 'action_gross', \n",
    "                                  'adventure_gross', 'romance_gross', 'thriller_gross'])\n",
    "by_genre_df.head()"
   ]
  },
  {
   "cell_type": "code",
   "execution_count": 270,
   "metadata": {},
   "outputs": [
    {
     "data": {
      "image/png": "[encoded data removed]",
      "text/plain": [
       "<Figure size 720x432 with 1 Axes>"
      ]
     },
     "metadata": {
      "needs_background": "light"
     },
     "output_type": "display_data"
    }
   ],
   "source": [
    "# see overall success by genre\n",
    "\n",
    "f, ax = plt.subplots(figsize=(10, 6))\n",
    "sns.barplot(x = 'variable', y = 'value', data = by_genre_df).set(title = 'Average Domestic Gross by genre')\n",
    "\n",
    "plt.show()"
   ]
  },
  {
   "cell_type": "code",
   "execution_count": 295,
   "metadata": {},
   "outputs": [
    {
     "data": {
      "image/png": "[encoded data removed]",
      "text/plain": [
       "<Figure size 1080x720 with 1 Axes>"
      ]
     },
     "metadata": {},
     "output_type": "display_data"
    }
   ],
   "source": [
    "f, ax = plt.subplots(figsize = (15,10))\n",
    "ax = sns.barplot(x=\"month\", y=\"value\", hue=\"variable\", data=by_genre_df,\n",
    "                palette=\"muted\", ci=None).set(title = 'Average Domestic Gross by Genre by Month')\n",
    "\n"
   ]
  },
  {
   "cell_type": "code",
   "execution_count": 146,
   "metadata": {},
   "outputs": [
    {
     "data": {
      "image/png": "[encoded data removed]",
      "text/plain": [
       "<Figure size 1440x720 with 6 Axes>"
      ]
     },
     "metadata": {
      "needs_background": "light"
     },
     "output_type": "display_data"
    }
   ],
   "source": [
    "f, axes = plt.subplots(2, 3, figsize=(20, 10))\n",
    "sns.despine(left=True)\n",
    "\n",
    "sns.barplot(x=\"month\", y=\"domestic_gross\", data=merged_df.loc[merged_df['Drama'] == 1], capsize=.2, palette=\"Set3\", ax=axes[0, 0]).set(ylabel= \"Domestic Gross\", title = \"Drama Movie Success by Month\", xticklabels = tick_label_list)\n",
    "sns.barplot(x=\"month\", y=\"domestic_gross\", data=merged_df.loc[merged_df['Comedy'] == 1], capsize=.2, palette=\"Set3\", ax=axes[0, 1]).set(ylabel= \"Domestic Gross\", title = \"Comedy Movie Success by Month\", xticklabels = tick_label_list)\n",
    "sns.barplot(x=\"month\", y=\"domestic_gross\", data=merged_df.loc[merged_df['Action'] == 1], capsize=.2, palette=\"Set3\", ax=axes[0, 2]).set(ylabel= \"Domestic Gross\", title = \"Action Movie Success by Month\", xticklabels = tick_label_list)\n",
    "sns.barplot(x=\"month\", y=\"domestic_gross\", data=merged_df.loc[merged_df['Adventure'] == 1], capsize=.2, palette=\"Set3\", ax=axes[1, 0]).set(ylabel= \"Domestic Gross\", title = \"Adventure Movie Success by Month\", xticklabels = tick_label_list)\n",
    "sns.barplot(x=\"month\", y=\"domestic_gross\", data=merged_df.loc[merged_df['Thriller'] == 1], capsize=.2, palette=\"Set3\", ax=axes[1, 1]).set(ylabel= \"Domestic Gross\", title = \"Thriller Movie Success by Month\", xticklabels = tick_label_list)\n",
    "sns.barplot(x=\"month\", y=\"domestic_gross\", data=merged_df.loc[merged_df['Romance'] == 1], capsize=.2, palette=\"Set3\", ax=axes[1, 2]).set(ylabel= \"Domestic Gross\", title = \"Romance Movie Success by Month\", xticklabels = tick_label_list)\n",
    "plt.setp(axes, xticklabels = tick_label_list)\n",
    "\n",
    "plt.show()"
   ]
  },
  {
   "cell_type": "code",
   "execution_count": 153,
   "metadata": {},
   "outputs": [
    {
     "data": {
      "text/plain": [
       "['Drama', 'Comedy', 'Action', 'Adventure', 'Romance', 'Thriller']"
      ]
     },
     "execution_count": 153,
     "metadata": {},
     "output_type": "execute_result"
    }
   ],
   "source": []
  },
  {
   "cell_type": "code",
   "execution_count": 154,
   "metadata": {},
   "outputs": [],
   "source": [
    "# create separate dataframes for these different genres\n",
    "\n",
    "drama_df = merged_df.loc[merged_df['Drama'] == 1]\n",
    "comedy_df = merged_df.loc[merged_df['Comedy'] == 1]\n",
    "action_df = merged_df.loc[merged_df['Action'] == 1]\n",
    "adventure_df = merged_df.loc[merged_df['Adventure'] == 1]\n",
    "romance_df = merged_df.loc[merged_df['Romance'] == 1]\n",
    "thriller_df = merged_df.loc[merged_df['Thriller'] == 1]"
   ]
  },
  {
   "cell_type": "code",
   "execution_count": 174,
   "metadata": {},
   "outputs": [],
   "source": []
  },
  {
   "cell_type": "code",
   "execution_count": 232,
   "metadata": {},
   "outputs": [
    {
     "data": {
      "text/plain": [
       "(1710, 6)"
      ]
     },
     "execution_count": 232,
     "metadata": {},
     "output_type": "execute_result"
    }
   ],
   "source": [
    "dom_gross_genre_df.shape"
   ]
  },
  {
   "cell_type": "code",
   "execution_count": 233,
   "metadata": {},
   "outputs": [
    {
     "data": {
      "text/plain": [
       "(1854, 30)"
      ]
     },
     "execution_count": 233,
     "metadata": {},
     "output_type": "execute_result"
    }
   ],
   "source": [
    "merged_df.shape"
   ]
  },
  {
   "cell_type": "code",
   "execution_count": 187,
   "metadata": {},
   "outputs": [
    {
     "data": {
      "image/png": "[encoded data removed]",
      "text/plain": [
       "<Figure size 432x288 with 1 Axes>"
      ]
     },
     "metadata": {
      "needs_background": "light"
     },
     "output_type": "display_data"
    }
   ],
   "source": [
    "# create barplot of the mean domestic gross of each genre\n",
    "sns.barplot(x= top_six_genre_list, \n",
    "            y= dom_gross_genre_df.mean(axis = 0, skipna = True), \n",
    "            palette = 'deep').set(ylabel = 'Domestic Gross',\n",
    "                                  title = 'Average Domestic Gross per movie')\n",
    "\n",
    "plt.show()\n"
   ]
  },
  {
   "cell_type": "code",
   "execution_count": 150,
   "metadata": {},
   "outputs": [
    {
     "data": {
      "text/plain": [
       "Uni.    124\n",
       "Fox     117\n",
       "WB      103\n",
       "IFC      98\n",
       "BV       81\n",
       "Name: studio, dtype: int64"
      ]
     },
     "execution_count": 150,
     "metadata": {},
     "output_type": "execute_result"
    }
   ],
   "source": [
    "# obtain top five studios\n",
    "merged_df['studio'].value_counts()[:5]"
   ]
  },
  {
   "cell_type": "code",
   "execution_count": 202,
   "metadata": {},
   "outputs": [],
   "source": [
    "# divide each studio by genre\n",
    "\n",
    "uni_drama_df = drama_df.loc[drama_df['studio']=='Uni.']\n",
    "uni_comedy_df = comedy_df.loc[comedy_df['studio']=='Uni.']\n",
    "uni_action_df = action_df.loc[action_df['studio']=='Uni.']\n",
    "uni_adventure_df = adventure_df.loc[adventure_df['studio']=='Uni.']\n",
    "uni_romance_df = romance_df.loc[romance_df['studio']=='Uni.']\n",
    "uni_thriller_df = thriller_df.loc[thriller_df['studio']=='Uni.']\n",
    "\n",
    "fox_drama_df = drama_df.loc[drama_df['studio']=='Fox']\n",
    "fox_comedy_df = comedy_df.loc[comedy_df['studio']=='Fox']\n",
    "fox_action_df = action_df.loc[action_df['studio']=='Fox']\n",
    "fox_adventure_df = adventure_df.loc[adventure_df['studio']=='Fox']\n",
    "fox_romance_df = romance_df.loc[romance_df['studio']=='Fox']\n",
    "fox_thriller_df = thriller_df.loc[thriller_df['studio']=='Fox']\n",
    "\n",
    "wb_drama_df = drama_df.loc[drama_df['studio']=='WB']\n",
    "wb_comedy_df = comedy_df.loc[comedy_df['studio']=='WB']\n",
    "wb_action_df = action_df.loc[action_df['studio']=='WB']\n",
    "wb_adventure_df = adventure_df.loc[adventure_df['studio']=='WB']\n",
    "wb_romance_df = romance_df.loc[romance_df['studio']=='WB']\n",
    "wb_thriller_df = thriller_df.loc[thriller_df['studio']=='WB']\n",
    "\n",
    "ifc_drama_df = drama_df.loc[drama_df['studio']=='IFC']\n",
    "ifc_comedy_df = comedy_df.loc[comedy_df['studio']=='IFC']\n",
    "ifc_action_df = action_df.loc[action_df['studio']=='IFC']\n",
    "ifc_adventure_df = adventure_df.loc[adventure_df['studio']=='IFC']\n",
    "ifc_romance_df = romance_df.loc[romance_df['studio']=='IFC']\n",
    "ifc_thriller_df = thriller_df.loc[thriller_df['studio']=='IFC']\n",
    "\n",
    "bv_drama_df = drama_df.loc[drama_df['studio']=='BV']\n",
    "bv_comedy_df = comedy_df.loc[comedy_df['studio']=='BV']\n",
    "bv_action_df = action_df.loc[action_df['studio']=='BV']\n",
    "bv_adventure_df = adventure_df.loc[adventure_df['studio']=='BV']\n",
    "bv_romance_df = romance_df.loc[romance_df['studio']=='BV']\n",
    "bv_thriller_df = thriller_df.loc[thriller_df['studio']=='BV']"
   ]
  },
  {
   "cell_type": "code",
   "execution_count": 201,
   "metadata": {},
   "outputs": [],
   "source": []
  },
  {
   "cell_type": "code",
   "execution_count": null,
   "metadata": {},
   "outputs": [],
   "source": []
  },
  {
   "cell_type": "code",
   "execution_count": 193,
   "metadata": {},
   "outputs": [
    {
     "data": {
      "text/plain": [
       "(40, 30)"
      ]
     },
     "execution_count": 193,
     "metadata": {},
     "output_type": "execute_result"
    }
   ],
   "source": [
    "uni_drama_df.shape"
   ]
  },
  {
   "cell_type": "code",
   "execution_count": 194,
   "metadata": {},
   "outputs": [
    {
     "data": {
      "text/plain": [
       "(59, 30)"
      ]
     },
     "execution_count": 194,
     "metadata": {},
     "output_type": "execute_result"
    }
   ],
   "source": [
    "uni_comedy_df.shape"
   ]
  },
  {
   "cell_type": "code",
   "execution_count": 195,
   "metadata": {},
   "outputs": [
    {
     "data": {
      "text/plain": [
       "(46, 30)"
      ]
     },
     "execution_count": 195,
     "metadata": {},
     "output_type": "execute_result"
    }
   ],
   "source": [
    "uni_action_df.shape"
   ]
  },
  {
   "cell_type": "code",
   "execution_count": 197,
   "metadata": {},
   "outputs": [
    {
     "data": {
      "text/plain": [
       "(32, 30)"
      ]
     },
     "execution_count": 197,
     "metadata": {},
     "output_type": "execute_result"
    }
   ],
   "source": [
    "uni_adventure_df.shape"
   ]
  },
  {
   "cell_type": "code",
   "execution_count": 198,
   "metadata": {},
   "outputs": [
    {
     "data": {
      "text/plain": [
       "(21, 30)"
      ]
     },
     "execution_count": 198,
     "metadata": {},
     "output_type": "execute_result"
    }
   ],
   "source": [
    "uni_romance_df.shape"
   ]
  },
  {
   "cell_type": "code",
   "execution_count": 199,
   "metadata": {},
   "outputs": [
    {
     "data": {
      "text/plain": [
       "(25, 30)"
      ]
     },
     "execution_count": 199,
     "metadata": {},
     "output_type": "execute_result"
    }
   ],
   "source": [
    "uni_thriller_df.shape"
   ]
  },
  {
   "cell_type": "code",
   "execution_count": 215,
   "metadata": {
    "collapsed": true,
    "jupyter": {
     "outputs_hidden": true
    }
   },
   "outputs": [
    {
     "data": {
      "text/html": [
       "<div>\n",
       "<style scoped>\n",
       "    .dataframe tbody tr th:only-of-type {\n",
       "        vertical-align: middle;\n",
       "    }\n",
       "\n",
       "    .dataframe tbody tr th {\n",
       "        vertical-align: top;\n",
       "    }\n",
       "\n",
       "    .dataframe thead th {\n",
       "        text-align: right;\n",
       "    }\n",
       "</style>\n",
       "<table border=\"1\" class=\"dataframe\">\n",
       "  <thead>\n",
       "    <tr style=\"text-align: right;\">\n",
       "      <th></th>\n",
       "      <th>title</th>\n",
       "      <th>studio</th>\n",
       "      <th>domestic_gross</th>\n",
       "      <th>release_date</th>\n",
       "      <th>runtime_minutes</th>\n",
       "      <th>averagerating</th>\n",
       "      <th>numvotes</th>\n",
       "      <th>month</th>\n",
       "      <th>day</th>\n",
       "      <th>Adventure</th>\n",
       "      <th>...</th>\n",
       "      <th>Horror</th>\n",
       "      <th>Biography</th>\n",
       "      <th>History</th>\n",
       "      <th>Fantasy</th>\n",
       "      <th>Music</th>\n",
       "      <th>War</th>\n",
       "      <th>Sport</th>\n",
       "      <th>Western</th>\n",
       "      <th>Documentary</th>\n",
       "      <th>Musical</th>\n",
       "    </tr>\n",
       "  </thead>\n",
       "  <tbody>\n",
       "    <tr>\n",
       "      <th>14</th>\n",
       "      <td>Robin Hood</td>\n",
       "      <td>Uni.</td>\n",
       "      <td>105300000.0</td>\n",
       "      <td>2010-05-14</td>\n",
       "      <td>140.0</td>\n",
       "      <td>6.6</td>\n",
       "      <td>239480</td>\n",
       "      <td>5</td>\n",
       "      <td>mid</td>\n",
       "      <td>1</td>\n",
       "      <td>...</td>\n",
       "      <td>0</td>\n",
       "      <td>0</td>\n",
       "      <td>0</td>\n",
       "      <td>0</td>\n",
       "      <td>0</td>\n",
       "      <td>0</td>\n",
       "      <td>0</td>\n",
       "      <td>0.0</td>\n",
       "      <td>0.0</td>\n",
       "      <td>0.0</td>\n",
       "    </tr>\n",
       "    <tr>\n",
       "      <th>56</th>\n",
       "      <td>The Wolfman</td>\n",
       "      <td>Uni.</td>\n",
       "      <td>62000000.0</td>\n",
       "      <td>2010-02-12</td>\n",
       "      <td>103.0</td>\n",
       "      <td>5.8</td>\n",
       "      <td>97873</td>\n",
       "      <td>2</td>\n",
       "      <td>mid</td>\n",
       "      <td>0</td>\n",
       "      <td>...</td>\n",
       "      <td>1</td>\n",
       "      <td>0</td>\n",
       "      <td>0</td>\n",
       "      <td>1</td>\n",
       "      <td>0</td>\n",
       "      <td>0</td>\n",
       "      <td>0</td>\n",
       "      <td>0.0</td>\n",
       "      <td>0.0</td>\n",
       "      <td>1.0</td>\n",
       "    </tr>\n",
       "    <tr>\n",
       "      <th>71</th>\n",
       "      <td>Green Zone</td>\n",
       "      <td>Uni.</td>\n",
       "      <td>35100000.0</td>\n",
       "      <td>2010-03-11</td>\n",
       "      <td>115.0</td>\n",
       "      <td>6.8</td>\n",
       "      <td>122132</td>\n",
       "      <td>3</td>\n",
       "      <td>mid</td>\n",
       "      <td>0</td>\n",
       "      <td>...</td>\n",
       "      <td>0</td>\n",
       "      <td>0</td>\n",
       "      <td>0</td>\n",
       "      <td>0</td>\n",
       "      <td>0</td>\n",
       "      <td>0</td>\n",
       "      <td>0</td>\n",
       "      <td>0.0</td>\n",
       "      <td>0.0</td>\n",
       "      <td>0.0</td>\n",
       "    </tr>\n",
       "    <tr>\n",
       "      <th>106</th>\n",
       "      <td>Charlie St. Cloud</td>\n",
       "      <td>Uni.</td>\n",
       "      <td>31200000.0</td>\n",
       "      <td>2010-05-01</td>\n",
       "      <td>99.0</td>\n",
       "      <td>6.5</td>\n",
       "      <td>55016</td>\n",
       "      <td>5</td>\n",
       "      <td>beg</td>\n",
       "      <td>0</td>\n",
       "      <td>...</td>\n",
       "      <td>0</td>\n",
       "      <td>0</td>\n",
       "      <td>0</td>\n",
       "      <td>1</td>\n",
       "      <td>0</td>\n",
       "      <td>0</td>\n",
       "      <td>0</td>\n",
       "      <td>0.0</td>\n",
       "      <td>0.0</td>\n",
       "      <td>0.0</td>\n",
       "    </tr>\n",
       "    <tr>\n",
       "      <th>286</th>\n",
       "      <td>Sanctum</td>\n",
       "      <td>Uni.</td>\n",
       "      <td>23200000.0</td>\n",
       "      <td>2011-02-04</td>\n",
       "      <td>108.0</td>\n",
       "      <td>5.9</td>\n",
       "      <td>51318</td>\n",
       "      <td>2</td>\n",
       "      <td>beg</td>\n",
       "      <td>1</td>\n",
       "      <td>...</td>\n",
       "      <td>0</td>\n",
       "      <td>0</td>\n",
       "      <td>0</td>\n",
       "      <td>0</td>\n",
       "      <td>0</td>\n",
       "      <td>0</td>\n",
       "      <td>0</td>\n",
       "      <td>0.0</td>\n",
       "      <td>0.0</td>\n",
       "      <td>0.0</td>\n",
       "    </tr>\n",
       "    <tr>\n",
       "      <th>310</th>\n",
       "      <td>Larry Crowne</td>\n",
       "      <td>Uni.</td>\n",
       "      <td>35600000.0</td>\n",
       "      <td>2011-06-30</td>\n",
       "      <td>98.0</td>\n",
       "      <td>6.1</td>\n",
       "      <td>58927</td>\n",
       "      <td>6</td>\n",
       "      <td>end</td>\n",
       "      <td>0</td>\n",
       "      <td>...</td>\n",
       "      <td>0</td>\n",
       "      <td>0</td>\n",
       "      <td>0</td>\n",
       "      <td>0</td>\n",
       "      <td>0</td>\n",
       "      <td>0</td>\n",
       "      <td>0</td>\n",
       "      <td>0.0</td>\n",
       "      <td>0.0</td>\n",
       "      <td>0.0</td>\n",
       "    </tr>\n",
       "    <tr>\n",
       "      <th>311</th>\n",
       "      <td>The Dilemma</td>\n",
       "      <td>Uni.</td>\n",
       "      <td>48500000.0</td>\n",
       "      <td>2011-01-13</td>\n",
       "      <td>111.0</td>\n",
       "      <td>5.3</td>\n",
       "      <td>48148</td>\n",
       "      <td>1</td>\n",
       "      <td>mid</td>\n",
       "      <td>0</td>\n",
       "      <td>...</td>\n",
       "      <td>0</td>\n",
       "      <td>0</td>\n",
       "      <td>0</td>\n",
       "      <td>0</td>\n",
       "      <td>0</td>\n",
       "      <td>0</td>\n",
       "      <td>0</td>\n",
       "      <td>0.0</td>\n",
       "      <td>0.0</td>\n",
       "      <td>0.0</td>\n",
       "    </tr>\n",
       "    <tr>\n",
       "      <th>334</th>\n",
       "      <td>Dream House</td>\n",
       "      <td>Uni.</td>\n",
       "      <td>21300000.0</td>\n",
       "      <td>2011-09-30</td>\n",
       "      <td>84.0</td>\n",
       "      <td>6.0</td>\n",
       "      <td>59714</td>\n",
       "      <td>9</td>\n",
       "      <td>end</td>\n",
       "      <td>0</td>\n",
       "      <td>...</td>\n",
       "      <td>0</td>\n",
       "      <td>0</td>\n",
       "      <td>0</td>\n",
       "      <td>0</td>\n",
       "      <td>0</td>\n",
       "      <td>0</td>\n",
       "      <td>0</td>\n",
       "      <td>0.0</td>\n",
       "      <td>0.0</td>\n",
       "      <td>0.0</td>\n",
       "    </tr>\n",
       "    <tr>\n",
       "      <th>520</th>\n",
       "      <td>Snow White and the Huntsman</td>\n",
       "      <td>Uni.</td>\n",
       "      <td>155300000.0</td>\n",
       "      <td>2012-06-01</td>\n",
       "      <td>127.0</td>\n",
       "      <td>6.1</td>\n",
       "      <td>258938</td>\n",
       "      <td>6</td>\n",
       "      <td>beg</td>\n",
       "      <td>1</td>\n",
       "      <td>...</td>\n",
       "      <td>0</td>\n",
       "      <td>0</td>\n",
       "      <td>0</td>\n",
       "      <td>0</td>\n",
       "      <td>0</td>\n",
       "      <td>0</td>\n",
       "      <td>0</td>\n",
       "      <td>0.0</td>\n",
       "      <td>0.0</td>\n",
       "      <td>0.0</td>\n",
       "    </tr>\n",
       "    <tr>\n",
       "      <th>565</th>\n",
       "      <td>Contraband</td>\n",
       "      <td>Uni.</td>\n",
       "      <td>66500000.0</td>\n",
       "      <td>2012-01-13</td>\n",
       "      <td>109.0</td>\n",
       "      <td>6.5</td>\n",
       "      <td>111709</td>\n",
       "      <td>1</td>\n",
       "      <td>mid</td>\n",
       "      <td>0</td>\n",
       "      <td>...</td>\n",
       "      <td>0</td>\n",
       "      <td>0</td>\n",
       "      <td>0</td>\n",
       "      <td>0</td>\n",
       "      <td>0</td>\n",
       "      <td>0</td>\n",
       "      <td>0</td>\n",
       "      <td>0.0</td>\n",
       "      <td>0.0</td>\n",
       "      <td>0.0</td>\n",
       "    </tr>\n",
       "    <tr>\n",
       "      <th>615</th>\n",
       "      <td>Big Miracle</td>\n",
       "      <td>Uni.</td>\n",
       "      <td>20200000.0</td>\n",
       "      <td>2012-02-03</td>\n",
       "      <td>107.0</td>\n",
       "      <td>6.5</td>\n",
       "      <td>17585</td>\n",
       "      <td>2</td>\n",
       "      <td>beg</td>\n",
       "      <td>0</td>\n",
       "      <td>...</td>\n",
       "      <td>0</td>\n",
       "      <td>1</td>\n",
       "      <td>0</td>\n",
       "      <td>0</td>\n",
       "      <td>0</td>\n",
       "      <td>0</td>\n",
       "      <td>0</td>\n",
       "      <td>0.0</td>\n",
       "      <td>0.0</td>\n",
       "      <td>0.0</td>\n",
       "    </tr>\n",
       "    <tr>\n",
       "      <th>840</th>\n",
       "      <td>Lone Survivor</td>\n",
       "      <td>Uni.</td>\n",
       "      <td>125100000.0</td>\n",
       "      <td>2013-12-24</td>\n",
       "      <td>121.0</td>\n",
       "      <td>7.5</td>\n",
       "      <td>246641</td>\n",
       "      <td>12</td>\n",
       "      <td>end</td>\n",
       "      <td>0</td>\n",
       "      <td>...</td>\n",
       "      <td>0</td>\n",
       "      <td>1</td>\n",
       "      <td>0</td>\n",
       "      <td>0</td>\n",
       "      <td>0</td>\n",
       "      <td>0</td>\n",
       "      <td>0</td>\n",
       "      <td>0.0</td>\n",
       "      <td>0.0</td>\n",
       "      <td>0.0</td>\n",
       "    </tr>\n",
       "    <tr>\n",
       "      <th>841</th>\n",
       "      <td>47 Ronin</td>\n",
       "      <td>Uni.</td>\n",
       "      <td>38400000.0</td>\n",
       "      <td>2013-12-25</td>\n",
       "      <td>128.0</td>\n",
       "      <td>6.3</td>\n",
       "      <td>135754</td>\n",
       "      <td>12</td>\n",
       "      <td>end</td>\n",
       "      <td>1</td>\n",
       "      <td>...</td>\n",
       "      <td>0</td>\n",
       "      <td>0</td>\n",
       "      <td>0</td>\n",
       "      <td>0</td>\n",
       "      <td>0</td>\n",
       "      <td>0</td>\n",
       "      <td>0</td>\n",
       "      <td>0.0</td>\n",
       "      <td>0.0</td>\n",
       "      <td>0.0</td>\n",
       "    </tr>\n",
       "    <tr>\n",
       "      <th>842</th>\n",
       "      <td>Mama</td>\n",
       "      <td>Uni.</td>\n",
       "      <td>71600000.0</td>\n",
       "      <td>2013-01-18</td>\n",
       "      <td>50.0</td>\n",
       "      <td>4.5</td>\n",
       "      <td>6</td>\n",
       "      <td>1</td>\n",
       "      <td>mid</td>\n",
       "      <td>0</td>\n",
       "      <td>...</td>\n",
       "      <td>0</td>\n",
       "      <td>0</td>\n",
       "      <td>0</td>\n",
       "      <td>0</td>\n",
       "      <td>0</td>\n",
       "      <td>0</td>\n",
       "      <td>0</td>\n",
       "      <td>0.0</td>\n",
       "      <td>0.0</td>\n",
       "      <td>0.0</td>\n",
       "    </tr>\n",
       "    <tr>\n",
       "      <th>863</th>\n",
       "      <td>About Time</td>\n",
       "      <td>Uni.</td>\n",
       "      <td>15300000.0</td>\n",
       "      <td>2013-11-08</td>\n",
       "      <td>123.0</td>\n",
       "      <td>7.8</td>\n",
       "      <td>263136</td>\n",
       "      <td>11</td>\n",
       "      <td>beg</td>\n",
       "      <td>0</td>\n",
       "      <td>...</td>\n",
       "      <td>0</td>\n",
       "      <td>0</td>\n",
       "      <td>0</td>\n",
       "      <td>1</td>\n",
       "      <td>0</td>\n",
       "      <td>0</td>\n",
       "      <td>0</td>\n",
       "      <td>0.0</td>\n",
       "      <td>0.0</td>\n",
       "      <td>0.0</td>\n",
       "    </tr>\n",
       "    <tr>\n",
       "      <th>869</th>\n",
       "      <td>The Best Man Holiday</td>\n",
       "      <td>Uni.</td>\n",
       "      <td>70500000.0</td>\n",
       "      <td>2013-11-15</td>\n",
       "      <td>123.0</td>\n",
       "      <td>6.7</td>\n",
       "      <td>13967</td>\n",
       "      <td>11</td>\n",
       "      <td>mid</td>\n",
       "      <td>0</td>\n",
       "      <td>...</td>\n",
       "      <td>0</td>\n",
       "      <td>0</td>\n",
       "      <td>0</td>\n",
       "      <td>0</td>\n",
       "      <td>0</td>\n",
       "      <td>0</td>\n",
       "      <td>0</td>\n",
       "      <td>0.0</td>\n",
       "      <td>0.0</td>\n",
       "      <td>0.0</td>\n",
       "    </tr>\n",
       "    <tr>\n",
       "      <th>1077</th>\n",
       "      <td>Dracula Untold</td>\n",
       "      <td>Uni.</td>\n",
       "      <td>56300000.0</td>\n",
       "      <td>2014-10-03</td>\n",
       "      <td>92.0</td>\n",
       "      <td>6.3</td>\n",
       "      <td>164829</td>\n",
       "      <td>10</td>\n",
       "      <td>beg</td>\n",
       "      <td>0</td>\n",
       "      <td>...</td>\n",
       "      <td>0</td>\n",
       "      <td>0</td>\n",
       "      <td>0</td>\n",
       "      <td>1</td>\n",
       "      <td>0</td>\n",
       "      <td>0</td>\n",
       "      <td>0</td>\n",
       "      <td>0.0</td>\n",
       "      <td>0.0</td>\n",
       "      <td>0.0</td>\n",
       "    </tr>\n",
       "    <tr>\n",
       "      <th>1086</th>\n",
       "      <td>Unbroken</td>\n",
       "      <td>Uni.</td>\n",
       "      <td>115600000.0</td>\n",
       "      <td>2014-12-25</td>\n",
       "      <td>137.0</td>\n",
       "      <td>7.2</td>\n",
       "      <td>129981</td>\n",
       "      <td>12</td>\n",
       "      <td>end</td>\n",
       "      <td>0</td>\n",
       "      <td>...</td>\n",
       "      <td>0</td>\n",
       "      <td>1</td>\n",
       "      <td>0</td>\n",
       "      <td>0</td>\n",
       "      <td>0</td>\n",
       "      <td>0</td>\n",
       "      <td>1</td>\n",
       "      <td>0.0</td>\n",
       "      <td>0.0</td>\n",
       "      <td>0.0</td>\n",
       "    </tr>\n",
       "    <tr>\n",
       "      <th>1134</th>\n",
       "      <td>A Walk Among the Tombstones</td>\n",
       "      <td>Uni.</td>\n",
       "      <td>26300000.0</td>\n",
       "      <td>2014-09-19</td>\n",
       "      <td>114.0</td>\n",
       "      <td>6.5</td>\n",
       "      <td>105116</td>\n",
       "      <td>9</td>\n",
       "      <td>mid</td>\n",
       "      <td>0</td>\n",
       "      <td>...</td>\n",
       "      <td>0</td>\n",
       "      <td>0</td>\n",
       "      <td>0</td>\n",
       "      <td>0</td>\n",
       "      <td>0</td>\n",
       "      <td>0</td>\n",
       "      <td>0</td>\n",
       "      <td>0.0</td>\n",
       "      <td>0.0</td>\n",
       "      <td>0.0</td>\n",
       "    </tr>\n",
       "    <tr>\n",
       "      <th>1329</th>\n",
       "      <td>Fifty Shades of Grey</td>\n",
       "      <td>Uni.</td>\n",
       "      <td>166200000.0</td>\n",
       "      <td>2015-02-13</td>\n",
       "      <td>125.0</td>\n",
       "      <td>4.1</td>\n",
       "      <td>279126</td>\n",
       "      <td>2</td>\n",
       "      <td>mid</td>\n",
       "      <td>0</td>\n",
       "      <td>...</td>\n",
       "      <td>0</td>\n",
       "      <td>0</td>\n",
       "      <td>0</td>\n",
       "      <td>0</td>\n",
       "      <td>0</td>\n",
       "      <td>0</td>\n",
       "      <td>0</td>\n",
       "      <td>0.0</td>\n",
       "      <td>0.0</td>\n",
       "      <td>0.0</td>\n",
       "    </tr>\n",
       "    <tr>\n",
       "      <th>1363</th>\n",
       "      <td>Straight Outta Compton</td>\n",
       "      <td>Uni.</td>\n",
       "      <td>161200000.0</td>\n",
       "      <td>2015-08-14</td>\n",
       "      <td>147.0</td>\n",
       "      <td>7.9</td>\n",
       "      <td>165307</td>\n",
       "      <td>8</td>\n",
       "      <td>mid</td>\n",
       "      <td>0</td>\n",
       "      <td>...</td>\n",
       "      <td>0</td>\n",
       "      <td>1</td>\n",
       "      <td>1</td>\n",
       "      <td>0</td>\n",
       "      <td>0</td>\n",
       "      <td>0</td>\n",
       "      <td>0</td>\n",
       "      <td>0.0</td>\n",
       "      <td>0.0</td>\n",
       "      <td>0.0</td>\n",
       "    </tr>\n",
       "    <tr>\n",
       "      <th>1382</th>\n",
       "      <td>Trainwreck</td>\n",
       "      <td>Uni.</td>\n",
       "      <td>110200000.0</td>\n",
       "      <td>2015-07-17</td>\n",
       "      <td>125.0</td>\n",
       "      <td>6.2</td>\n",
       "      <td>121860</td>\n",
       "      <td>7</td>\n",
       "      <td>mid</td>\n",
       "      <td>0</td>\n",
       "      <td>...</td>\n",
       "      <td>0</td>\n",
       "      <td>0</td>\n",
       "      <td>0</td>\n",
       "      <td>0</td>\n",
       "      <td>0</td>\n",
       "      <td>0</td>\n",
       "      <td>0</td>\n",
       "      <td>0.0</td>\n",
       "      <td>0.0</td>\n",
       "      <td>0.0</td>\n",
       "    </tr>\n",
       "    <tr>\n",
       "      <th>1400</th>\n",
       "      <td>The Visit</td>\n",
       "      <td>Uni.</td>\n",
       "      <td>65200000.0</td>\n",
       "      <td>2015-09-11</td>\n",
       "      <td>90.0</td>\n",
       "      <td>8.3</td>\n",
       "      <td>7</td>\n",
       "      <td>9</td>\n",
       "      <td>mid</td>\n",
       "      <td>0</td>\n",
       "      <td>...</td>\n",
       "      <td>0</td>\n",
       "      <td>0</td>\n",
       "      <td>0</td>\n",
       "      <td>0</td>\n",
       "      <td>0</td>\n",
       "      <td>0</td>\n",
       "      <td>0</td>\n",
       "      <td>0.0</td>\n",
       "      <td>0.0</td>\n",
       "      <td>0.0</td>\n",
       "    </tr>\n",
       "    <tr>\n",
       "      <th>1425</th>\n",
       "      <td>Crimson Peak</td>\n",
       "      <td>Uni.</td>\n",
       "      <td>31100000.0</td>\n",
       "      <td>2015-10-16</td>\n",
       "      <td>119.0</td>\n",
       "      <td>6.5</td>\n",
       "      <td>119287</td>\n",
       "      <td>10</td>\n",
       "      <td>mid</td>\n",
       "      <td>0</td>\n",
       "      <td>...</td>\n",
       "      <td>1</td>\n",
       "      <td>0</td>\n",
       "      <td>0</td>\n",
       "      <td>1</td>\n",
       "      <td>0</td>\n",
       "      <td>0</td>\n",
       "      <td>0</td>\n",
       "      <td>0.0</td>\n",
       "      <td>0.0</td>\n",
       "      <td>0.0</td>\n",
       "    </tr>\n",
       "    <tr>\n",
       "      <th>1491</th>\n",
       "      <td>Steve Jobs</td>\n",
       "      <td>Uni.</td>\n",
       "      <td>17800000.0</td>\n",
       "      <td>2015-10-09</td>\n",
       "      <td>122.0</td>\n",
       "      <td>7.2</td>\n",
       "      <td>138668</td>\n",
       "      <td>10</td>\n",
       "      <td>beg</td>\n",
       "      <td>0</td>\n",
       "      <td>...</td>\n",
       "      <td>0</td>\n",
       "      <td>1</td>\n",
       "      <td>0</td>\n",
       "      <td>0</td>\n",
       "      <td>0</td>\n",
       "      <td>0</td>\n",
       "      <td>0</td>\n",
       "      <td>0.0</td>\n",
       "      <td>0.0</td>\n",
       "      <td>0.0</td>\n",
       "    </tr>\n",
       "    <tr>\n",
       "      <th>1564</th>\n",
       "      <td>By the Sea</td>\n",
       "      <td>Uni.</td>\n",
       "      <td>538000.0</td>\n",
       "      <td>2015-11-13</td>\n",
       "      <td>122.0</td>\n",
       "      <td>5.3</td>\n",
       "      <td>16206</td>\n",
       "      <td>11</td>\n",
       "      <td>mid</td>\n",
       "      <td>0</td>\n",
       "      <td>...</td>\n",
       "      <td>0</td>\n",
       "      <td>0</td>\n",
       "      <td>0</td>\n",
       "      <td>0</td>\n",
       "      <td>0</td>\n",
       "      <td>0</td>\n",
       "      <td>0</td>\n",
       "      <td>0.0</td>\n",
       "      <td>0.0</td>\n",
       "      <td>0.0</td>\n",
       "    </tr>\n",
       "    <tr>\n",
       "      <th>1596</th>\n",
       "      <td>Jem and the Holograms</td>\n",
       "      <td>Uni.</td>\n",
       "      <td>2200000.0</td>\n",
       "      <td>2015-10-23</td>\n",
       "      <td>118.0</td>\n",
       "      <td>4.1</td>\n",
       "      <td>6683</td>\n",
       "      <td>10</td>\n",
       "      <td>end</td>\n",
       "      <td>1</td>\n",
       "      <td>...</td>\n",
       "      <td>0</td>\n",
       "      <td>0</td>\n",
       "      <td>0</td>\n",
       "      <td>0</td>\n",
       "      <td>0</td>\n",
       "      <td>0</td>\n",
       "      <td>0</td>\n",
       "      <td>0.0</td>\n",
       "      <td>0.0</td>\n",
       "      <td>0.0</td>\n",
       "    </tr>\n",
       "    <tr>\n",
       "      <th>1818</th>\n",
       "      <td>Bridget Jones's Baby</td>\n",
       "      <td>Uni.</td>\n",
       "      <td>24300000.0</td>\n",
       "      <td>2016-09-16</td>\n",
       "      <td>123.0</td>\n",
       "      <td>6.5</td>\n",
       "      <td>60260</td>\n",
       "      <td>9</td>\n",
       "      <td>mid</td>\n",
       "      <td>0</td>\n",
       "      <td>...</td>\n",
       "      <td>0</td>\n",
       "      <td>0</td>\n",
       "      <td>0</td>\n",
       "      <td>0</td>\n",
       "      <td>0</td>\n",
       "      <td>0</td>\n",
       "      <td>0</td>\n",
       "      <td>0.0</td>\n",
       "      <td>0.0</td>\n",
       "      <td>0.0</td>\n",
       "    </tr>\n",
       "    <tr>\n",
       "      <th>1828</th>\n",
       "      <td>The Huntsman: Winter's War</td>\n",
       "      <td>Uni.</td>\n",
       "      <td>48400000.0</td>\n",
       "      <td>2016-04-22</td>\n",
       "      <td>114.0</td>\n",
       "      <td>6.1</td>\n",
       "      <td>87714</td>\n",
       "      <td>4</td>\n",
       "      <td>end</td>\n",
       "      <td>1</td>\n",
       "      <td>...</td>\n",
       "      <td>0</td>\n",
       "      <td>0</td>\n",
       "      <td>0</td>\n",
       "      <td>0</td>\n",
       "      <td>0</td>\n",
       "      <td>0</td>\n",
       "      <td>0</td>\n",
       "      <td>0.0</td>\n",
       "      <td>0.0</td>\n",
       "      <td>0.0</td>\n",
       "    </tr>\n",
       "    <tr>\n",
       "      <th>1879</th>\n",
       "      <td>Ouija: Origin of Evil</td>\n",
       "      <td>Uni.</td>\n",
       "      <td>35100000.0</td>\n",
       "      <td>2016-10-21</td>\n",
       "      <td>99.0</td>\n",
       "      <td>6.1</td>\n",
       "      <td>47099</td>\n",
       "      <td>10</td>\n",
       "      <td>end</td>\n",
       "      <td>0</td>\n",
       "      <td>...</td>\n",
       "      <td>1</td>\n",
       "      <td>0</td>\n",
       "      <td>0</td>\n",
       "      <td>0</td>\n",
       "      <td>0</td>\n",
       "      <td>0</td>\n",
       "      <td>0</td>\n",
       "      <td>NaN</td>\n",
       "      <td>NaN</td>\n",
       "      <td>NaN</td>\n",
       "    </tr>\n",
       "    <tr>\n",
       "      <th>1890</th>\n",
       "      <td>Hail, Caesar!</td>\n",
       "      <td>Uni.</td>\n",
       "      <td>30500000.0</td>\n",
       "      <td>2016-02-05</td>\n",
       "      <td>106.0</td>\n",
       "      <td>6.3</td>\n",
       "      <td>111422</td>\n",
       "      <td>2</td>\n",
       "      <td>beg</td>\n",
       "      <td>0</td>\n",
       "      <td>...</td>\n",
       "      <td>0</td>\n",
       "      <td>0</td>\n",
       "      <td>0</td>\n",
       "      <td>0</td>\n",
       "      <td>1</td>\n",
       "      <td>0</td>\n",
       "      <td>0</td>\n",
       "      <td>NaN</td>\n",
       "      <td>NaN</td>\n",
       "      <td>NaN</td>\n",
       "    </tr>\n",
       "    <tr>\n",
       "      <th>1909</th>\n",
       "      <td>Almost Christmas</td>\n",
       "      <td>Uni.</td>\n",
       "      <td>42200000.0</td>\n",
       "      <td>2016-11-11</td>\n",
       "      <td>111.0</td>\n",
       "      <td>6.1</td>\n",
       "      <td>5212</td>\n",
       "      <td>11</td>\n",
       "      <td>mid</td>\n",
       "      <td>0</td>\n",
       "      <td>...</td>\n",
       "      <td>0</td>\n",
       "      <td>0</td>\n",
       "      <td>0</td>\n",
       "      <td>0</td>\n",
       "      <td>0</td>\n",
       "      <td>0</td>\n",
       "      <td>0</td>\n",
       "      <td>NaN</td>\n",
       "      <td>NaN</td>\n",
       "      <td>NaN</td>\n",
       "    </tr>\n",
       "    <tr>\n",
       "      <th>2175</th>\n",
       "      <td>Fifty Shades Darker</td>\n",
       "      <td>Uni.</td>\n",
       "      <td>114600000.0</td>\n",
       "      <td>2017-02-10</td>\n",
       "      <td>118.0</td>\n",
       "      <td>4.6</td>\n",
       "      <td>81706</td>\n",
       "      <td>2</td>\n",
       "      <td>beg</td>\n",
       "      <td>0</td>\n",
       "      <td>...</td>\n",
       "      <td>0</td>\n",
       "      <td>0</td>\n",
       "      <td>0</td>\n",
       "      <td>0</td>\n",
       "      <td>0</td>\n",
       "      <td>0</td>\n",
       "      <td>0</td>\n",
       "      <td>NaN</td>\n",
       "      <td>NaN</td>\n",
       "      <td>NaN</td>\n",
       "    </tr>\n",
       "    <tr>\n",
       "      <th>2219</th>\n",
       "      <td>A Dog's Purpose</td>\n",
       "      <td>Uni.</td>\n",
       "      <td>64500000.0</td>\n",
       "      <td>2017-01-27</td>\n",
       "      <td>100.0</td>\n",
       "      <td>7.1</td>\n",
       "      <td>53805</td>\n",
       "      <td>1</td>\n",
       "      <td>end</td>\n",
       "      <td>1</td>\n",
       "      <td>...</td>\n",
       "      <td>0</td>\n",
       "      <td>0</td>\n",
       "      <td>0</td>\n",
       "      <td>0</td>\n",
       "      <td>0</td>\n",
       "      <td>0</td>\n",
       "      <td>0</td>\n",
       "      <td>NaN</td>\n",
       "      <td>NaN</td>\n",
       "      <td>NaN</td>\n",
       "    </tr>\n",
       "    <tr>\n",
       "      <th>2238</th>\n",
       "      <td>Girls Trip</td>\n",
       "      <td>Uni.</td>\n",
       "      <td>115200000.0</td>\n",
       "      <td>2017-07-21</td>\n",
       "      <td>122.0</td>\n",
       "      <td>6.2</td>\n",
       "      <td>29321</td>\n",
       "      <td>7</td>\n",
       "      <td>end</td>\n",
       "      <td>0</td>\n",
       "      <td>...</td>\n",
       "      <td>0</td>\n",
       "      <td>0</td>\n",
       "      <td>0</td>\n",
       "      <td>0</td>\n",
       "      <td>0</td>\n",
       "      <td>0</td>\n",
       "      <td>0</td>\n",
       "      <td>NaN</td>\n",
       "      <td>NaN</td>\n",
       "      <td>NaN</td>\n",
       "    </tr>\n",
       "    <tr>\n",
       "      <th>2282</th>\n",
       "      <td>The Snowman</td>\n",
       "      <td>Uni.</td>\n",
       "      <td>6700000.0</td>\n",
       "      <td>2017-10-20</td>\n",
       "      <td>119.0</td>\n",
       "      <td>5.1</td>\n",
       "      <td>47890</td>\n",
       "      <td>10</td>\n",
       "      <td>mid</td>\n",
       "      <td>0</td>\n",
       "      <td>...</td>\n",
       "      <td>0</td>\n",
       "      <td>0</td>\n",
       "      <td>0</td>\n",
       "      <td>0</td>\n",
       "      <td>0</td>\n",
       "      <td>0</td>\n",
       "      <td>0</td>\n",
       "      <td>NaN</td>\n",
       "      <td>NaN</td>\n",
       "      <td>NaN</td>\n",
       "    </tr>\n",
       "    <tr>\n",
       "      <th>2483</th>\n",
       "      <td>Fifty Shades Freed</td>\n",
       "      <td>Uni.</td>\n",
       "      <td>100400000.0</td>\n",
       "      <td>2018-02-09</td>\n",
       "      <td>105.0</td>\n",
       "      <td>4.5</td>\n",
       "      <td>43893</td>\n",
       "      <td>2</td>\n",
       "      <td>beg</td>\n",
       "      <td>0</td>\n",
       "      <td>...</td>\n",
       "      <td>0</td>\n",
       "      <td>0</td>\n",
       "      <td>0</td>\n",
       "      <td>0</td>\n",
       "      <td>0</td>\n",
       "      <td>0</td>\n",
       "      <td>0</td>\n",
       "      <td>NaN</td>\n",
       "      <td>NaN</td>\n",
       "      <td>NaN</td>\n",
       "    </tr>\n",
       "    <tr>\n",
       "      <th>2489</th>\n",
       "      <td>Green Book</td>\n",
       "      <td>Uni.</td>\n",
       "      <td>85100000.0</td>\n",
       "      <td>2018-11-16</td>\n",
       "      <td>130.0</td>\n",
       "      <td>8.3</td>\n",
       "      <td>204972</td>\n",
       "      <td>11</td>\n",
       "      <td>mid</td>\n",
       "      <td>0</td>\n",
       "      <td>...</td>\n",
       "      <td>0</td>\n",
       "      <td>1</td>\n",
       "      <td>0</td>\n",
       "      <td>0</td>\n",
       "      <td>0</td>\n",
       "      <td>0</td>\n",
       "      <td>0</td>\n",
       "      <td>NaN</td>\n",
       "      <td>NaN</td>\n",
       "      <td>NaN</td>\n",
       "    </tr>\n",
       "    <tr>\n",
       "      <th>2513</th>\n",
       "      <td>First Man</td>\n",
       "      <td>Uni.</td>\n",
       "      <td>44900000.0</td>\n",
       "      <td>2018-10-12</td>\n",
       "      <td>141.0</td>\n",
       "      <td>7.4</td>\n",
       "      <td>120009</td>\n",
       "      <td>10</td>\n",
       "      <td>mid</td>\n",
       "      <td>0</td>\n",
       "      <td>...</td>\n",
       "      <td>0</td>\n",
       "      <td>1</td>\n",
       "      <td>1</td>\n",
       "      <td>0</td>\n",
       "      <td>0</td>\n",
       "      <td>0</td>\n",
       "      <td>0</td>\n",
       "      <td>NaN</td>\n",
       "      <td>NaN</td>\n",
       "      <td>NaN</td>\n",
       "    </tr>\n",
       "    <tr>\n",
       "      <th>2611</th>\n",
       "      <td>Welcome to Marwen</td>\n",
       "      <td>Uni.</td>\n",
       "      <td>10800000.0</td>\n",
       "      <td>2018-12-21</td>\n",
       "      <td>116.0</td>\n",
       "      <td>6.1</td>\n",
       "      <td>8920</td>\n",
       "      <td>12</td>\n",
       "      <td>end</td>\n",
       "      <td>0</td>\n",
       "      <td>...</td>\n",
       "      <td>0</td>\n",
       "      <td>1</td>\n",
       "      <td>0</td>\n",
       "      <td>0</td>\n",
       "      <td>0</td>\n",
       "      <td>0</td>\n",
       "      <td>0</td>\n",
       "      <td>NaN</td>\n",
       "      <td>NaN</td>\n",
       "      <td>NaN</td>\n",
       "    </tr>\n",
       "  </tbody>\n",
       "</table>\n",
       "<p>40 rows × 30 columns</p>\n",
       "</div>"
      ],
      "text/plain": [
       "                            title studio  domestic_gross release_date  \\\n",
       "14                     Robin Hood   Uni.     105300000.0   2010-05-14   \n",
       "56                    The Wolfman   Uni.      62000000.0   2010-02-12   \n",
       "71                     Green Zone   Uni.      35100000.0   2010-03-11   \n",
       "106             Charlie St. Cloud   Uni.      31200000.0   2010-05-01   \n",
       "286                       Sanctum   Uni.      23200000.0   2011-02-04   \n",
       "310                  Larry Crowne   Uni.      35600000.0   2011-06-30   \n",
       "311                   The Dilemma   Uni.      48500000.0   2011-01-13   \n",
       "334                   Dream House   Uni.      21300000.0   2011-09-30   \n",
       "520   Snow White and the Huntsman   Uni.     155300000.0   2012-06-01   \n",
       "565                    Contraband   Uni.      66500000.0   2012-01-13   \n",
       "615                   Big Miracle   Uni.      20200000.0   2012-02-03   \n",
       "840                 Lone Survivor   Uni.     125100000.0   2013-12-24   \n",
       "841                      47 Ronin   Uni.      38400000.0   2013-12-25   \n",
       "842                          Mama   Uni.      71600000.0   2013-01-18   \n",
       "863                    About Time   Uni.      15300000.0   2013-11-08   \n",
       "869          The Best Man Holiday   Uni.      70500000.0   2013-11-15   \n",
       "1077               Dracula Untold   Uni.      56300000.0   2014-10-03   \n",
       "1086                     Unbroken   Uni.     115600000.0   2014-12-25   \n",
       "1134  A Walk Among the Tombstones   Uni.      26300000.0   2014-09-19   \n",
       "1329         Fifty Shades of Grey   Uni.     166200000.0   2015-02-13   \n",
       "1363       Straight Outta Compton   Uni.     161200000.0   2015-08-14   \n",
       "1382                   Trainwreck   Uni.     110200000.0   2015-07-17   \n",
       "1400                    The Visit   Uni.      65200000.0   2015-09-11   \n",
       "1425                 Crimson Peak   Uni.      31100000.0   2015-10-16   \n",
       "1491                   Steve Jobs   Uni.      17800000.0   2015-10-09   \n",
       "1564                   By the Sea   Uni.        538000.0   2015-11-13   \n",
       "1596        Jem and the Holograms   Uni.       2200000.0   2015-10-23   \n",
       "1818         Bridget Jones's Baby   Uni.      24300000.0   2016-09-16   \n",
       "1828   The Huntsman: Winter's War   Uni.      48400000.0   2016-04-22   \n",
       "1879        Ouija: Origin of Evil   Uni.      35100000.0   2016-10-21   \n",
       "1890                Hail, Caesar!   Uni.      30500000.0   2016-02-05   \n",
       "1909             Almost Christmas   Uni.      42200000.0   2016-11-11   \n",
       "2175          Fifty Shades Darker   Uni.     114600000.0   2017-02-10   \n",
       "2219              A Dog's Purpose   Uni.      64500000.0   2017-01-27   \n",
       "2238                   Girls Trip   Uni.     115200000.0   2017-07-21   \n",
       "2282                  The Snowman   Uni.       6700000.0   2017-10-20   \n",
       "2483           Fifty Shades Freed   Uni.     100400000.0   2018-02-09   \n",
       "2489                   Green Book   Uni.      85100000.0   2018-11-16   \n",
       "2513                    First Man   Uni.      44900000.0   2018-10-12   \n",
       "2611            Welcome to Marwen   Uni.      10800000.0   2018-12-21   \n",
       "\n",
       "      runtime_minutes  averagerating  numvotes  month  day  Adventure  ...  \\\n",
       "14              140.0            6.6    239480      5  mid          1  ...   \n",
       "56              103.0            5.8     97873      2  mid          0  ...   \n",
       "71              115.0            6.8    122132      3  mid          0  ...   \n",
       "106              99.0            6.5     55016      5  beg          0  ...   \n",
       "286             108.0            5.9     51318      2  beg          1  ...   \n",
       "310              98.0            6.1     58927      6  end          0  ...   \n",
       "311             111.0            5.3     48148      1  mid          0  ...   \n",
       "334              84.0            6.0     59714      9  end          0  ...   \n",
       "520             127.0            6.1    258938      6  beg          1  ...   \n",
       "565             109.0            6.5    111709      1  mid          0  ...   \n",
       "615             107.0            6.5     17585      2  beg          0  ...   \n",
       "840             121.0            7.5    246641     12  end          0  ...   \n",
       "841             128.0            6.3    135754     12  end          1  ...   \n",
       "842              50.0            4.5         6      1  mid          0  ...   \n",
       "863             123.0            7.8    263136     11  beg          0  ...   \n",
       "869             123.0            6.7     13967     11  mid          0  ...   \n",
       "1077             92.0            6.3    164829     10  beg          0  ...   \n",
       "1086            137.0            7.2    129981     12  end          0  ...   \n",
       "1134            114.0            6.5    105116      9  mid          0  ...   \n",
       "1329            125.0            4.1    279126      2  mid          0  ...   \n",
       "1363            147.0            7.9    165307      8  mid          0  ...   \n",
       "1382            125.0            6.2    121860      7  mid          0  ...   \n",
       "1400             90.0            8.3         7      9  mid          0  ...   \n",
       "1425            119.0            6.5    119287     10  mid          0  ...   \n",
       "1491            122.0            7.2    138668     10  beg          0  ...   \n",
       "1564            122.0            5.3     16206     11  mid          0  ...   \n",
       "1596            118.0            4.1      6683     10  end          1  ...   \n",
       "1818            123.0            6.5     60260      9  mid          0  ...   \n",
       "1828            114.0            6.1     87714      4  end          1  ...   \n",
       "1879             99.0            6.1     47099     10  end          0  ...   \n",
       "1890            106.0            6.3    111422      2  beg          0  ...   \n",
       "1909            111.0            6.1      5212     11  mid          0  ...   \n",
       "2175            118.0            4.6     81706      2  beg          0  ...   \n",
       "2219            100.0            7.1     53805      1  end          1  ...   \n",
       "2238            122.0            6.2     29321      7  end          0  ...   \n",
       "2282            119.0            5.1     47890     10  mid          0  ...   \n",
       "2483            105.0            4.5     43893      2  beg          0  ...   \n",
       "2489            130.0            8.3    204972     11  mid          0  ...   \n",
       "2513            141.0            7.4    120009     10  mid          0  ...   \n",
       "2611            116.0            6.1      8920     12  end          0  ...   \n",
       "\n",
       "      Horror  Biography  History  Fantasy  Music  War  Sport  Western  \\\n",
       "14         0          0        0        0      0    0      0      0.0   \n",
       "56         1          0        0        1      0    0      0      0.0   \n",
       "71         0          0        0        0      0    0      0      0.0   \n",
       "106        0          0        0        1      0    0      0      0.0   \n",
       "286        0          0        0        0      0    0      0      0.0   \n",
       "310        0          0        0        0      0    0      0      0.0   \n",
       "311        0          0        0        0      0    0      0      0.0   \n",
       "334        0          0        0        0      0    0      0      0.0   \n",
       "520        0          0        0        0      0    0      0      0.0   \n",
       "565        0          0        0        0      0    0      0      0.0   \n",
       "615        0          1        0        0      0    0      0      0.0   \n",
       "840        0          1        0        0      0    0      0      0.0   \n",
       "841        0          0        0        0      0    0      0      0.0   \n",
       "842        0          0        0        0      0    0      0      0.0   \n",
       "863        0          0        0        1      0    0      0      0.0   \n",
       "869        0          0        0        0      0    0      0      0.0   \n",
       "1077       0          0        0        1      0    0      0      0.0   \n",
       "1086       0          1        0        0      0    0      1      0.0   \n",
       "1134       0          0        0        0      0    0      0      0.0   \n",
       "1329       0          0        0        0      0    0      0      0.0   \n",
       "1363       0          1        1        0      0    0      0      0.0   \n",
       "1382       0          0        0        0      0    0      0      0.0   \n",
       "1400       0          0        0        0      0    0      0      0.0   \n",
       "1425       1          0        0        1      0    0      0      0.0   \n",
       "1491       0          1        0        0      0    0      0      0.0   \n",
       "1564       0          0        0        0      0    0      0      0.0   \n",
       "1596       0          0        0        0      0    0      0      0.0   \n",
       "1818       0          0        0        0      0    0      0      0.0   \n",
       "1828       0          0        0        0      0    0      0      0.0   \n",
       "1879       1          0        0        0      0    0      0      NaN   \n",
       "1890       0          0        0        0      1    0      0      NaN   \n",
       "1909       0          0        0        0      0    0      0      NaN   \n",
       "2175       0          0        0        0      0    0      0      NaN   \n",
       "2219       0          0        0        0      0    0      0      NaN   \n",
       "2238       0          0        0        0      0    0      0      NaN   \n",
       "2282       0          0        0        0      0    0      0      NaN   \n",
       "2483       0          0        0        0      0    0      0      NaN   \n",
       "2489       0          1        0        0      0    0      0      NaN   \n",
       "2513       0          1        1        0      0    0      0      NaN   \n",
       "2611       0          1        0        0      0    0      0      NaN   \n",
       "\n",
       "      Documentary  Musical  \n",
       "14            0.0      0.0  \n",
       "56            0.0      1.0  \n",
       "71            0.0      0.0  \n",
       "106           0.0      0.0  \n",
       "286           0.0      0.0  \n",
       "310           0.0      0.0  \n",
       "311           0.0      0.0  \n",
       "334           0.0      0.0  \n",
       "520           0.0      0.0  \n",
       "565           0.0      0.0  \n",
       "615           0.0      0.0  \n",
       "840           0.0      0.0  \n",
       "841           0.0      0.0  \n",
       "842           0.0      0.0  \n",
       "863           0.0      0.0  \n",
       "869           0.0      0.0  \n",
       "1077          0.0      0.0  \n",
       "1086          0.0      0.0  \n",
       "1134          0.0      0.0  \n",
       "1329          0.0      0.0  \n",
       "1363          0.0      0.0  \n",
       "1382          0.0      0.0  \n",
       "1400          0.0      0.0  \n",
       "1425          0.0      0.0  \n",
       "1491          0.0      0.0  \n",
       "1564          0.0      0.0  \n",
       "1596          0.0      0.0  \n",
       "1818          0.0      0.0  \n",
       "1828          0.0      0.0  \n",
       "1879          NaN      NaN  \n",
       "1890          NaN      NaN  \n",
       "1909          NaN      NaN  \n",
       "2175          NaN      NaN  \n",
       "2219          NaN      NaN  \n",
       "2238          NaN      NaN  \n",
       "2282          NaN      NaN  \n",
       "2483          NaN      NaN  \n",
       "2489          NaN      NaN  \n",
       "2513          NaN      NaN  \n",
       "2611          NaN      NaN  \n",
       "\n",
       "[40 rows x 30 columns]"
      ]
     },
     "execution_count": 215,
     "metadata": {},
     "output_type": "execute_result"
    }
   ],
   "source": [
    "merged_df.loc[(merged_df['studio'] == 'Uni.') & (merged_df['Drama'] == 1)]"
   ]
  },
  {
   "cell_type": "code",
   "execution_count": 222,
   "metadata": {},
   "outputs": [],
   "source": [
    "top_five_studios_df = merged_df.loc[(merged_df['studio'] == 'Uni.') | (merged_df['studio'] == 'Fox') | \n",
    "                                 (merged_df['studio'] == 'WB') | (merged_df['studio'] == 'IFC') | \n",
    "                                 (merged_df['studio'] == 'BV')]"
   ]
  },
  {
   "cell_type": "code",
   "execution_count": 223,
   "metadata": {},
   "outputs": [
    {
     "data": {
      "text/plain": [
       "<matplotlib.axes._subplots.AxesSubplot at 0x1a31c08e10>"
      ]
     },
     "execution_count": 223,
     "metadata": {},
     "output_type": "execute_result"
    },
    {
     "data": {
      "image/png": "[encoded data removed]",
      "text/plain": [
       "<Figure size 432x288 with 1 Axes>"
      ]
     },
     "metadata": {
      "needs_background": "light"
     },
     "output_type": "display_data"
    }
   ],
   "source": [
    "sns.barplot(x = 'studio', y = 'domestic_gross', data = top_five_studios_df)"
   ]
  },
  {
   "cell_type": "code",
   "execution_count": 225,
   "metadata": {},
   "outputs": [
    {
     "data": {
      "text/plain": [
       "<matplotlib.axes._subplots.AxesSubplot at 0x1a326a4550>"
      ]
     },
     "execution_count": 225,
     "metadata": {},
     "output_type": "execute_result"
    },
    {
     "data": {
      "image/png": "[encoded data removed]",
      "text/plain": [
       "<Figure size 432x288 with 1 Axes>"
      ]
     },
     "metadata": {
      "needs_background": "light"
     },
     "output_type": "display_data"
    }
   ],
   "source": [
    "sns.barplot(x = 'studio', y = 'domestic_gross', data = top_five_studios_df.loc[top_five_studios_df['Drama'] == 1])"
   ]
  },
  {
   "cell_type": "code",
   "execution_count": 226,
   "metadata": {},
   "outputs": [
    {
     "data": {
      "text/plain": [
       "<matplotlib.axes._subplots.AxesSubplot at 0x1a31312668>"
      ]
     },
     "execution_count": 226,
     "metadata": {},
     "output_type": "execute_result"
    },
    {
     "data": {
      "image/png": "[encoded data removed]",
      "text/plain": [
       "<Figure size 432x288 with 1 Axes>"
      ]
     },
     "metadata": {
      "needs_background": "light"
     },
     "output_type": "display_data"
    }
   ],
   "source": [
    "sns.barplot(x = 'studio', y = 'domestic_gross', data = top_five_studios_df.loc[top_five_studios_df['Comedy'] == 1])"
   ]
  },
  {
   "cell_type": "code",
   "execution_count": 227,
   "metadata": {},
   "outputs": [
    {
     "data": {
      "text/plain": [
       "<matplotlib.axes._subplots.AxesSubplot at 0x1a30fddeb8>"
      ]
     },
     "execution_count": 227,
     "metadata": {},
     "output_type": "execute_result"
    },
    {
     "data": {
      "image/png": "[encoded data removed]",
      "text/plain": [
       "<Figure size 432x288 with 1 Axes>"
      ]
     },
     "metadata": {
      "needs_background": "light"
     },
     "output_type": "display_data"
    }
   ],
   "source": [
    "sns.barplot(x = 'studio', y = 'domestic_gross', data = top_five_studios_df.loc[top_five_studios_df['Action'] == 1])"
   ]
  },
  {
   "cell_type": "code",
   "execution_count": 228,
   "metadata": {},
   "outputs": [
    {
     "data": {
      "text/plain": [
       "<matplotlib.axes._subplots.AxesSubplot at 0x1a34b63f98>"
      ]
     },
     "execution_count": 228,
     "metadata": {},
     "output_type": "execute_result"
    },
    {
     "data": {
      "image/png": "[encoded data removed]",
      "text/plain": [
       "<Figure size 432x288 with 1 Axes>"
      ]
     },
     "metadata": {
      "needs_background": "light"
     },
     "output_type": "display_data"
    }
   ],
   "source": [
    "sns.barplot(x = 'studio', y = 'domestic_gross', data = top_five_studios_df.loc[top_five_studios_df['Adventure'] == 1])"
   ]
  },
  {
   "cell_type": "code",
   "execution_count": 229,
   "metadata": {},
   "outputs": [
    {
     "data": {
      "text/plain": [
       "<matplotlib.axes._subplots.AxesSubplot at 0x1a312a8e10>"
      ]
     },
     "execution_count": 229,
     "metadata": {},
     "output_type": "execute_result"
    },
    {
     "data": {
      "image/png": "[encoded data removed]",
      "text/plain": [
       "<Figure size 432x288 with 1 Axes>"
      ]
     },
     "metadata": {
      "needs_background": "light"
     },
     "output_type": "display_data"
    }
   ],
   "source": [
    "sns.barplot(x = 'studio', y = 'domestic_gross', data = top_five_studios_df.loc[top_five_studios_df['Romance'] == 1])"
   ]
  },
  {
   "cell_type": "code",
   "execution_count": 230,
   "metadata": {},
   "outputs": [
    {
     "data": {
      "text/plain": [
       "<matplotlib.axes._subplots.AxesSubplot at 0x1a312cffd0>"
      ]
     },
     "execution_count": 230,
     "metadata": {},
     "output_type": "execute_result"
    },
    {
     "data": {
      "image/png": "[encoded data removed]",
      "text/plain": [
       "<Figure size 432x288 with 1 Axes>"
      ]
     },
     "metadata": {
      "needs_background": "light"
     },
     "output_type": "display_data"
    }
   ],
   "source": [
    "sns.barplot(x = 'studio', y = 'domestic_gross', data = top_five_studios_df.loc[top_five_studios_df['Thriller'] == 1])"
   ]
  },
  {
   "cell_type": "code",
   "execution_count": null,
   "metadata": {},
   "outputs": [],
   "source": []
  }
 ],
 "metadata": {
  "kernelspec": {
   "display_name": "Python 3",
   "language": "python",
   "name": "python3"
  },
  "language_info": {
   "codemirror_mode": {
    "name": "ipython",
    "version": 3
   },
   "file_extension": ".py",
   "mimetype": "text/x-python",
   "name": "python",
   "nbconvert_exporter": "python",
   "pygments_lexer": "ipython3",
   "version": "3.7.3"
  }
 },
 "nbformat": 4,
 "nbformat_minor": 4
}
