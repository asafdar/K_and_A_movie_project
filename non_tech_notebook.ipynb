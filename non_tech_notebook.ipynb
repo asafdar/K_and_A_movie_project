{
 "cells": [
  {
   "cell_type": "markdown",
   "metadata": {},
   "source": [
    "# Timing is Everything"
   ]
  },
  {
   "cell_type": "markdown",
   "metadata": {},
   "source": [
    "## A movie data analysis by Ahmed Safdar and Kate Christensen"
   ]
  },
  {
   "cell_type": "markdown",
   "metadata": {},
   "source": [
    "## Purpose\n",
    "\n",
    "- The purpose of our analysis was to determine which genres made the most money from 2010 - 2018.\n",
    "- We then looked at which studios fared better with which genre, to determine the studios we would most like to work with.\n",
    "- We further broke it down by month, to see if certain genres fared better in certain times of the year.\n",
    "- Finally, we looked at whether the time of the month a movie is released (beginning, middle, or end) is a contributing factor.\n",
    "\n"
   ]
  },
  {
   "cell_type": "markdown",
   "metadata": {},
   "source": [
    "![fig1](fig1.png)\n",
    "### This figure shows that Adventure, Action and Comedy were the highest-grossing genres from 2010 - 2018."
   ]
  },
  {
   "cell_type": "markdown",
   "metadata": {},
   "source": [
    "![fig2](fig2.png)\n",
    "### This figure shows that Buena Vista and Warner Bros. made the most money from 2010 - 2018."
   ]
  },
  {
   "cell_type": "markdown",
   "metadata": {},
   "source": [
    "![fig3](fig3.png)\n",
    "### Here we see that Buena Vista does very well with action movies. Warner Bros. does well with action and adventure movies."
   ]
  },
  {
   "cell_type": "markdown",
   "metadata": {},
   "source": [
    "![fig4](fig4.png)\n",
    "### From this figure we see that action movies fared very well in May and June, but not so well in September or October. Dramas, on the other hand, do well when released in February or December, but not so well in April or May."
   ]
  },
  {
   "cell_type": "markdown",
   "metadata": {},
   "source": [
    "![fig5](fig5.png)\n",
    "### We can see here that ( ) seems to be the best time of the month to release Adventure movies, whereas you would want to release comedies in the ( ) of the month."
   ]
  },
  {
   "cell_type": "markdown",
   "metadata": {},
   "source": [
    "## Results\n",
    "- From these results, we can recommend that Buena Vista is your first choice to work with--they are the best ac action films. If they aren't available, Warner Bros. is also extremely succerssful at action/adventure.\n",
    "- If you're looking to release your movie in June, adventure would be your best bet. If you make an action movie, release it in May.\n",
    "- If you're looking for a November release, adventure would again be your best option."
   ]
  },
  {
   "cell_type": "code",
   "execution_count": null,
   "metadata": {},
   "outputs": [],
   "source": []
  },
  {
   "cell_type": "code",
   "execution_count": null,
   "metadata": {},
   "outputs": [],
   "source": []
  },
  {
   "cell_type": "code",
   "execution_count": null,
   "metadata": {},
   "outputs": [],
   "source": []
  }
 ],
 "metadata": {
  "kernelspec": {
   "display_name": "Python [conda env:learn-env] *",
   "language": "python",
   "name": "conda-env-learn-env-py"
  },
  "language_info": {
   "codemirror_mode": {
    "name": "ipython",
    "version": 3
   },
   "file_extension": ".py",
   "mimetype": "text/x-python",
   "name": "python",
   "nbconvert_exporter": "python",
   "pygments_lexer": "ipython3",
   "version": "3.6.6"
  }
 },
 "nbformat": 4,
 "nbformat_minor": 4
}
