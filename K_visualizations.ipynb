{
 "cells": [
  {
   "cell_type": "code",
   "execution_count": 1,
   "metadata": {},
   "outputs": [],
   "source": [
    "import pandas as pd\n",
    "import numpy as np\n",
    "import matplotlib.pyplot as plt\n",
    "import seaborn as sns"
   ]
  },
  {
   "cell_type": "code",
   "execution_count": 4,
   "metadata": {},
   "outputs": [
    {
     "data": {
      "text/plain": [
       "<bound method NDFrame.head of     ,tconst,title,genres,averagerating,numvotes,studio,domestic_gross,popularity,release_date,vote_average,vote_count,month,Adventure,Drama,Romance,Action,Crime,Sci-fi,Comedy,Family,Animation,Thriller,Mystery,Horror,Biography,History,Fantasy,Music,War,Sport,Musical,Documentary,Western\n",
       "0    0,tt0337692,On the Road,\"['Adventure', 'Drama'...                                                                                                                                                                                                                                       \n",
       "1    3,tt0365907,A Walk Among the Tombstones,\"['Act...                                                                                                                                                                                                                                       \n",
       "2    4,tt0369610,Jurassic World,\"['Action', 'Advent...                                                                                                                                                                                                                                       \n",
       "3    5,tt0372538,Spy,\"['Action', 'Crime', 'Drama']\"...                                                                                                                                                                                                                                       \n",
       "4    13,tt0376479,American Pastoral,\"['Crime', 'Dra...                                                                                                                                                                                                                                       \n",
       "5    17,tt0383010,The Three Stooges,\"['Comedy', 'Fa...                                                                                                                                                                                                                                       \n",
       "6    18,tt0398286,Tangled,\"['Adventure', 'Animation...                                                                                                                                                                                                                                       \n",
       "7    19,tt0401729,John Carter,\"['Action', 'Adventur...                                                                                                                                                                                                                                       \n",
       "8    20,tt0409847,Cowboys & Aliens,\"['Action', 'Sci...                                                                                                                                                                                                                                       \n",
       "9    21,tt0419692,Disconnect,\"['Drama', 'Mystery', ...                                                                                                                                                                                                                                       \n",
       "10   45,tt0427152,Dinner for Schmucks,['Comedy'],5....                                                                                                                                                                                                                                       \n",
       "11   46,tt0429493,The A-Team,\"['Action', 'Adventure...                                                                                                                                                                                                                                       \n",
       "12   48,tt0431021,The Possession,\"['Horror', 'Myste...                                                                                                                                                                                                                                       \n",
       "13   49,tt0433035,Real Steel,\"['Action', 'Drama', '...                                                                                                                                                                                                                                       \n",
       "14   50,tt0435651,The Giver,\"['Drama', 'Romance', '...                                                                                                                                                                                                                                       \n",
       "15   51,tt0435761,Toy Story 3,\"['Adventure', 'Anima...                                                                                                                                                                                                                                       \n",
       "16   52,tt0443272,Lincoln,\"['Biography', 'Drama', '...                                                                                                                                                                                                                                       \n",
       "17   53,tt0443465,Before We Go,\"['Comedy', 'Drama',...                                                                                                                                                                                                                                       \n",
       "18   55,tt0446029,Scott Pilgrim vs. the World,\"['Ac...                                                                                                                                                                                                                                       \n",
       "19   56,tt0448694,Puss in Boots,\"['Action', 'Advent...                                                                                                                                                                                                                                       \n",
       "20   59,tt0451279,Wonder Woman,\"['Action', 'Adventu...                                                                                                                                                                                                                                       \n",
       "21   71,tt0454876,Life of Pi,\"['Adventure', 'Drama'...                                                                                                                                                                                                                                       \n",
       "22   72,tt0455407,The Crazies,\"['Horror', 'Thriller...                                                                                                                                                                                                                                       \n",
       "23   74,tt0455944,The Equalizer,\"['Action', 'Crime'...                                                                                                                                                                                                                                       \n",
       "24   76,tt0458339,Captain America: The First Avenge...                                                                                                                                                                                                                                       \n",
       "25   77,tt0462335,High-Rise,\"['Drama', 'Horror', 'S...                                                                                                                                                                                                                                       \n",
       "26   81,tt0464154,Piranha 3D,\"['Comedy', 'Horror']\"...                                                                                                                                                                                                                                       \n",
       "27   82,tt0470752,Ex Machina,\"['Drama', 'Mystery', ...                                                                                                                                                                                                                                       \n",
       "28   83,tt0471042,Tower Heist,\"['Action', 'Comedy',...                                                                                                                                                                                                                                       \n",
       "29   84,tt0472181,The Smurfs,\"['Adventure', 'Animat...                                                                                                                                                                                                                                       \n",
       "..                                                 ...                                                                                                                                                                                                                                       \n",
       "691  2413,tt3691740,The BFG,\"['Adventure', 'Family'...                                                                                                                                                                                                                                       \n",
       "692  2414,tt4255304,The Void,\"['Horror', 'Mystery',...                                                                                                                                                                                                                                       \n",
       "693  2448,tt3717252,Underworld: Blood Wars,\"['Actio...                                                                                                                                                                                                                                       \n",
       "694  2449,tt3721936,American Honey,\"['Adventure', '...                                                                                                                                                                                                                                       \n",
       "695  2450,tt3731562,Kong: Skull Island,\"['Action', ...                                                                                                                                                                                                                                       \n",
       "696  2452,tt3783958,La La Land,\"['Comedy', 'Drama',...                                                                                                                                                                                                                                       \n",
       "697  2461,tt3799694,The Nice Guys,\"['Action', 'Come...                                                                                                                                                                                                                                       \n",
       "698  2462,tt3824458,Tangerine,\"['Comedy', 'Crime', ...                                                                                                                                                                                                                                       \n",
       "699  2463,tt3832914,War Room,['Drama'],6.5,11716,Tr...                                                                                                                                                                                                                                       \n",
       "700  2465,tt3850590,Krampus,\"['Comedy', 'Fantasy', ...                                                                                                                                                                                                                                       \n",
       "701  2468,tt3863552,Bajrangi Bhaijaan,\"['Action', '...                                                                                                                                                                                                                                       \n",
       "702  2469,tt3949660,Teenage Mutant Ninja Turtles: O...                                                                                                                                                                                                                                       \n",
       "703  2471,tt3958034,Don't Breathe,['Documentary'],6...                                                                                                                                                                                                                                       \n",
       "704  2473,tt3966404,Mustang,['Drama'],7.6,30899,Coh...                                                                                                                                                                                                                                       \n",
       "705  2474,tt4005402,Colonia,\"['Drama', 'Romance', '...                                                                                                                                                                                                                                       \n",
       "706  2475,tt4034228,Manchester by the Sea,['Drama']...                                                                                                                                                                                                                                       \n",
       "707  2480,tt4046784,Maze Runner: The Scorch Trials,...                                                                                                                                                                                                                                       \n",
       "708  2494,tt4196776,Jason Bourne,\"['Action', 'Thril...                                                                                                                                                                                                                                       \n",
       "709  2497,tt4291590,Evolution,\"['Drama', 'Mystery',...                                                                                                                                                                                                                                       \n",
       "710  2501,tt4302938,Kubo and the Two Strings,\"['Act...                                                                                                                                                                                                                                       \n",
       "711  2521,tt4572514,Patriots Day,\"['Action', 'Crime...                                                                                                                                                                                                                                       \n",
       "712  2525,tt4624424,Storks,\"['Adventure', 'Animatio...                                                                                                                                                                                                                                       \n",
       "713  2526,tt4651520,Bad Moms,['Comedy'],6.2,100952,...                                                                                                                                                                                                                                       \n",
       "714  2531,tt4698684,Hunt for the Wilderpeople,\"['Ad...                                                                                                                                                                                                                                       \n",
       "715  2536,tt4799066,Midnight Sun,\"['Drama', 'Romanc...                                                                                                                                                                                                                                       \n",
       "716  2547,tt5052448,Get Out,\"['Horror', 'Mystery', ...                                                                                                                                                                                                                                       \n",
       "717  2552,tt5325452,Boo! A Madea Halloween,\"['Comed...                                                                                                                                                                                                                                       \n",
       "718  2553,tt5758778,Skyscraper,\"['Action', 'Adventu...                                                                                                                                                                                                                                       \n",
       "719  2554,tt6333056,City of Ghosts,\"['Documentary',...                                                                                                                                                                                                                                       \n",
       "720  2555,tt8097306,Nobody's Fool,\"['Comedy', 'Dram...                                                                                                                                                                                                                                       \n",
       "\n",
       "[721 rows x 1 columns]>"
      ]
     },
     "execution_count": 4,
     "metadata": {},
     "output_type": "execute_result"
    }
   ],
   "source": []
  },
  {
   "cell_type": "code",
   "execution_count": null,
   "metadata": {},
   "outputs": [],
   "source": []
  }
 ],
 "metadata": {
  "kernelspec": {
   "display_name": "Python 3",
   "language": "python",
   "name": "python3"
  },
  "language_info": {
   "codemirror_mode": {
    "name": "ipython",
    "version": 3
   },
   "file_extension": ".py",
   "mimetype": "text/x-python",
   "name": "python",
   "nbconvert_exporter": "python",
   "pygments_lexer": "ipython3",
   "version": "3.7.3"
  }
 },
 "nbformat": 4,
 "nbformat_minor": 4
}
